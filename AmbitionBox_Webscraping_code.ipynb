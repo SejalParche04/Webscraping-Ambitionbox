{
 "cells": [
  {
   "cell_type": "markdown",
   "metadata": {},
   "source": [
    "WEB SCRAPING for Page 1"
   ]
  },
  {
   "cell_type": "code",
   "execution_count": 51,
   "metadata": {},
   "outputs": [],
   "source": [
    "import pandas as pd\n",
    "import requests\n",
    "from bs4 import BeautifulSoup\n",
    "import numpy as np"
   ]
  },
  {
   "cell_type": "code",
   "execution_count": 52,
   "metadata": {},
   "outputs": [],
   "source": [
    "final = []\n",
    "HEADERS = {'User-Agent':'Mozilla/5.0 (Windows NT 10.0; Win64; x64) AppleWebKit/537.36 (KHTML, like Gecko) Chrome/123.0.0.0 Safari/537.36'}\n",
    "url = \"https://www.ambitionbox.com/list-of-companies?campaign=desktop_nav\"\n",
    "response = requests.get(url,headers=HEADERS).text\n",
    "\n",
    "\n"
   ]
  },
  {
   "cell_type": "code",
   "execution_count": 53,
   "metadata": {},
   "outputs": [],
   "source": [
    "soup=BeautifulSoup(response,'html.parser')"
   ]
  },
  {
   "cell_type": "code",
   "execution_count": 54,
   "metadata": {},
   "outputs": [],
   "source": [
    "#print(soup.prettify())"
   ]
  },
  {
   "cell_type": "code",
   "execution_count": 55,
   "metadata": {},
   "outputs": [],
   "source": [
    "company=soup.find_all('div',class_='companyCardWrapper')"
   ]
  },
  {
   "cell_type": "code",
   "execution_count": 56,
   "metadata": {},
   "outputs": [
    {
     "data": {
      "text/plain": [
       "20"
      ]
     },
     "execution_count": 56,
     "metadata": {},
     "output_type": "execute_result"
    }
   ],
   "source": [
    "len(company)"
   ]
  },
  {
   "cell_type": "code",
   "execution_count": 57,
   "metadata": {},
   "outputs": [],
   "source": [
    "name=[]\n",
    "rating=[]\n",
    "reviews=[]\n",
    "companytype=[]\n",
    "for i in company:\n",
    "    name.append(i.find('h2').text.strip())\n",
    "    rating.append(i.find('span',class_='companyCardWrapper__companyRatingValue').text.strip())\n",
    "    reviews.append(i.find('span' , class_='companyCardWrapper__ActionCount').text.strip())\n",
    "    companytype.append(i.find_all('span',class_='companyCardWrapper__interLinking')[0].text.strip())\n",
    "df=pd.DataFrame({'name':name,\n",
    "    'rating':rating,\n",
    "    'reviews':reviews,\n",
    "    # 'companytype':companytype})"
   ]
  },
  {
   "cell_type": "code",
   "execution_count": 58,
   "metadata": {},
   "outputs": [],
   "source": [
    "#display(df)"
   ]
  },
  {
   "cell_type": "code",
   "execution_count": 59,
   "metadata": {},
   "outputs": [
    {
     "name": "stdout",
     "output_type": "stream",
     "text": [
      "Requirement already satisfied: lxml in c:\\users\\sejal\\appdata\\local\\programs\\python\\python312\\lib\\site-packages (5.2.1)\n",
      "Note: you may need to restart the kernel to use updated packages.\n"
     ]
    }
   ],
   "source": [
    "pip install lxml"
   ]
  },
  {
   "cell_type": "markdown",
   "metadata": {},
   "source": [
    "WEB SCRAPING for Multiple pages (1 to 100):"
   ]
  },
  {
   "cell_type": "code",
   "execution_count": 71,
   "metadata": {},
   "outputs": [],
   "source": [
    "name2=[] \n",
    "rating2=[]\n",
    "reviews2=[]\n",
    "companytype2=[]\n",
    "\n",
    "\n",
    "\n",
    "for j in range(1,101):\n",
    "    #webpage=requests.get('https://www.ambitionbox.com/list-of-companies?page={}'.format(j)).text\n",
    "    response = requests.get(\"https://www.ambitionbox.com/list-of-companies?campaign=desktop_nav&page=\" + str(j),headers=HEADERS).text\n",
    "    soup2 = BeautifulSoup(response,'lxml')\n",
    "    company2 = soup2.find_all('div',class_='companyCardWrapper')\n",
    "    \n",
    "    \n",
    "    for i in company2:\n",
    "        name2.append(i.find('h2').text.strip())\n",
    "        rating2.append(i.find('span',class_='companyCardWrapper__companyRatingValue').text.strip())\n",
    "        reviews2.append(i.find('span' , class_='companyCardWrapper__ActionCount').text.strip())\n",
    "        companytype2.append(i.find_all('span',class_='companyCardWrapper__interLinking')[0].text.strip())\n",
    "        \n",
    "\n",
    "\n",
    "df2=pd.DataFrame({'name':name2,'rating':rating2,'reviews':reviews2,'companytype':companytype2})"
   ]
  },
  {
   "cell_type": "code",
   "execution_count": 63,
   "metadata": {},
   "outputs": [
    {
     "data": {
      "text/html": [
       "<div>\n",
       "<style scoped>\n",
       "    .dataframe tbody tr th:only-of-type {\n",
       "        vertical-align: middle;\n",
       "    }\n",
       "\n",
       "    .dataframe tbody tr th {\n",
       "        vertical-align: top;\n",
       "    }\n",
       "\n",
       "    .dataframe thead th {\n",
       "        text-align: right;\n",
       "    }\n",
       "</style>\n",
       "<table border=\"1\" class=\"dataframe\">\n",
       "  <thead>\n",
       "    <tr style=\"text-align: right;\">\n",
       "      <th></th>\n",
       "      <th>name</th>\n",
       "      <th>rating</th>\n",
       "      <th>reviews</th>\n",
       "      <th>companytype</th>\n",
       "    </tr>\n",
       "  </thead>\n",
       "  <tbody>\n",
       "    <tr>\n",
       "      <th>0</th>\n",
       "      <td>TCS</td>\n",
       "      <td>3.8</td>\n",
       "      <td>74.9k</td>\n",
       "      <td>IT Services &amp; Consulting | 1 Lakh+ Employees |...</td>\n",
       "    </tr>\n",
       "    <tr>\n",
       "      <th>1</th>\n",
       "      <td>Accenture</td>\n",
       "      <td>4.0</td>\n",
       "      <td>47.5k</td>\n",
       "      <td>IT Services &amp; Consulting | 1 Lakh+ Employees |...</td>\n",
       "    </tr>\n",
       "    <tr>\n",
       "      <th>2</th>\n",
       "      <td>Cognizant</td>\n",
       "      <td>3.9</td>\n",
       "      <td>42.8k</td>\n",
       "      <td>IT Services &amp; Consulting | 1 Lakh+ Employees |...</td>\n",
       "    </tr>\n",
       "    <tr>\n",
       "      <th>3</th>\n",
       "      <td>Wipro</td>\n",
       "      <td>3.8</td>\n",
       "      <td>40.3k</td>\n",
       "      <td>IT Services &amp; Consulting | 1 Lakh+ Employees |...</td>\n",
       "    </tr>\n",
       "    <tr>\n",
       "      <th>4</th>\n",
       "      <td>Capgemini</td>\n",
       "      <td>3.9</td>\n",
       "      <td>34.9k</td>\n",
       "      <td>IT Services &amp; Consulting | 1 Lakh+ Employees |...</td>\n",
       "    </tr>\n",
       "    <tr>\n",
       "      <th>...</th>\n",
       "      <td>...</td>\n",
       "      <td>...</td>\n",
       "      <td>...</td>\n",
       "      <td>...</td>\n",
       "    </tr>\n",
       "    <tr>\n",
       "      <th>1995</th>\n",
       "      <td>Gujarat Heavy Chemicals</td>\n",
       "      <td>4.1</td>\n",
       "      <td>371</td>\n",
       "      <td>Chemicals | 1k-5k Employees | Public | 41 year...</td>\n",
       "    </tr>\n",
       "    <tr>\n",
       "      <th>1996</th>\n",
       "      <td>Blackrock</td>\n",
       "      <td>3.9</td>\n",
       "      <td>376</td>\n",
       "      <td>Management Consulting | 1k-5k Employees | Forb...</td>\n",
       "    </tr>\n",
       "    <tr>\n",
       "      <th>1997</th>\n",
       "      <td>People Tech Group</td>\n",
       "      <td>2.8</td>\n",
       "      <td>376</td>\n",
       "      <td>IT Services &amp; Consulting | 1k-5k Employees | 1...</td>\n",
       "    </tr>\n",
       "    <tr>\n",
       "      <th>1998</th>\n",
       "      <td>V.S.T Tillers Tractors</td>\n",
       "      <td>3.6</td>\n",
       "      <td>374</td>\n",
       "      <td>Industrial Machinery | 201-500 Employees | Pub...</td>\n",
       "    </tr>\n",
       "    <tr>\n",
       "      <th>1999</th>\n",
       "      <td>Marble Box</td>\n",
       "      <td>4.3</td>\n",
       "      <td>370</td>\n",
       "      <td>BPO | 501-1k Employees | MNC | 22 years old | ...</td>\n",
       "    </tr>\n",
       "  </tbody>\n",
       "</table>\n",
       "<p>2000 rows × 4 columns</p>\n",
       "</div>"
      ],
      "text/plain": [
       "                         name rating reviews  \\\n",
       "0                         TCS    3.8   74.9k   \n",
       "1                   Accenture    4.0   47.5k   \n",
       "2                   Cognizant    3.9   42.8k   \n",
       "3                       Wipro    3.8   40.3k   \n",
       "4                   Capgemini    3.9   34.9k   \n",
       "...                       ...    ...     ...   \n",
       "1995  Gujarat Heavy Chemicals    4.1     371   \n",
       "1996                Blackrock    3.9     376   \n",
       "1997        People Tech Group    2.8     376   \n",
       "1998   V.S.T Tillers Tractors    3.6     374   \n",
       "1999               Marble Box    4.3     370   \n",
       "\n",
       "                                            companytype  \n",
       "0     IT Services & Consulting | 1 Lakh+ Employees |...  \n",
       "1     IT Services & Consulting | 1 Lakh+ Employees |...  \n",
       "2     IT Services & Consulting | 1 Lakh+ Employees |...  \n",
       "3     IT Services & Consulting | 1 Lakh+ Employees |...  \n",
       "4     IT Services & Consulting | 1 Lakh+ Employees |...  \n",
       "...                                                 ...  \n",
       "1995  Chemicals | 1k-5k Employees | Public | 41 year...  \n",
       "1996  Management Consulting | 1k-5k Employees | Forb...  \n",
       "1997  IT Services & Consulting | 1k-5k Employees | 1...  \n",
       "1998  Industrial Machinery | 201-500 Employees | Pub...  \n",
       "1999  BPO | 501-1k Employees | MNC | 22 years old | ...  \n",
       "\n",
       "[2000 rows x 4 columns]"
      ]
     },
     "metadata": {},
     "output_type": "display_data"
    }
   ],
   "source": [
    "display(df2)"
   ]
  }
 ],
 "metadata": {
  "kernelspec": {
   "display_name": "Python 3",
   "language": "python",
   "name": "python3"
  },
  "language_info": {
   "codemirror_mode": {
    "name": "ipython",
    "version": 3
   },
   "file_extension": ".py",
   "mimetype": "text/x-python",
   "name": "python",
   "nbconvert_exporter": "python",
   "pygments_lexer": "ipython3",
   "version": "3.12.0"
  }
 },
 "nbformat": 4,
 "nbformat_minor": 2
}
